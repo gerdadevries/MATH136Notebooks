{
 "cells": [
  {
   "cell_type": "markdown",
   "metadata": {},
   "source": [
    "# Integration Using Tables and Computer Algebra Systems\n",
    "\n",
    "Finding antiderivatives is tricky business, often requiring sophisticated techniques of integration that are beyond the scope of this course.  At times, we will be running across an function for which we cannot find an antiderivative.  Does this mean we cannot make further progress?  Not necessarily!  \n",
    "\n",
    "In this notebook, we will introduce two tools, created by professional mathematicians and computer scientists, that are readily available to us, namely \n",
    "1. Tables of Integrals, and \n",
    "2. Computer Algebra Systems / Online Integrators.\n",
    "\n",
    "### 1. Tables of Integrals\n",
    "\n",
    "During our first class, we crowdsourced a Basic Table of Integrals, based on our knowledge of basic functions from the previous calculus course, such as \n",
    "\\begin{align}\n",
    "\\int x^n \\ dx & = \\frac{x^{n+1}}{n+1} + C \\ \\ \\  \\mbox{for} \\ \\ n \\ne 1 \\\\ \n",
    "\\int \\frac{1}{x} \\ dx & = \\ln|x| + C \\\\ \n",
    "\\int e^x \\ dx & = e^x + C \\\\\n",
    "\\int \\sin(x) \\ dx & = -\\cos(x) + C \\\\ \n",
    "& . \\\\ \n",
    "& . \\\\\n",
    "& . \\\\\n",
    "\\end{align}\n",
    "Mathematicians have collected antiderivatives of thousands of functions over the years, and organized them for lookup by others.  A small Table of Integrals is available at the front of the textbook (Reference Pages 6-10).  For convenience, we have posted a pdf file with these pages on eClass (with permission from the publisher).\n",
    "\n",
    "In the next video, we take a look at how this Table to Integrals is organized, and we do a few examples to demonstrate how to use the Table. \n",
    "\n",
    "<font color=blue> NOTE: At minute 5:02, there is a small mistake, namely that a factor of 2 was not carried through from one line to the next.</font>"
   ]
  },
  {
   "cell_type": "code",
   "execution_count": 2,
   "metadata": {},
   "outputs": [
    {
     "data": {
      "image/jpeg": "[encoded data removed]",
      "text/html": [
       "\n",
       "        <iframe\n",
       "            width=\"400\"\n",
       "            height=\"300\"\n",
       "            src=\"https://www.youtube.com/embed/zxGYeDl-FmA\"\n",
       "            frameborder=\"0\"\n",
       "            allowfullscreen\n",
       "        ></iframe>\n",
       "        "
      ],
      "text/plain": [
       "<IPython.lib.display.YouTubeVideo at 0x7f80c440ecf8>"
      ]
     },
     "execution_count": 2,
     "metadata": {},
     "output_type": "execute_result"
    }
   ],
   "source": [
    "from IPython.display import YouTubeVideo\n",
    "YouTubeVideo('zxGYeDl-FmA')"
   ]
  },
  {
   "cell_type": "markdown",
   "metadata": {},
   "source": [
    "It is important to keep in mind that it is not uncommon to need to use algebraic techniques (such as completing the square) and/or substitution to rewrite a given function into one of the forms listed in the Table of Integrals. \n",
    "\n",
    "### 2. A Powerful Online Integrator\n",
    "\n",
    "In the last decade or so, mathematicians and computer scientists have made tremendous progress in developing software to evaluate integrals.  An example is WolframAlpha's free computational engine, which can be accessed for free online.  \n",
    "\n",
    "For example, to evaluate $\\displaystyle \\int \\frac{dx}{x^2 \\sqrt{4x^2+9}}$:\n",
    "> Navigate to https://www.wolframalpha.com and type\n",
    "`integrate 1 / ( x^2 sqrt( 4x^2 + 9 ) )`\n",
    "\n",
    "With the press of a button, we find\n",
    "$$\n",
    "\\int \\frac{dx}{x^2 \\sqrt{4x^2+9}} = \\frac{ - \\sqrt{ 4x^2 + 9 } }{ 9x} + C.\n",
    "$$\n",
    "\n",
    "Similarly, to evaluate $\\displaystyle \\int_0^{\\pi} x^3 \\sin(x) \\ dx$:\n",
    "> Navigate to https://www.wolframalpha.com and type\n",
    "`integrate x^3 sin(x) from 0 to pi`\n",
    "\n",
    "We readily find \n",
    "$$\n",
    "\\int_0^{\\pi} x^3 \\sin(x) \\ dx = \\pi ( \\pi^2 - 6 ).\n",
    "$$\n",
    "\n",
    "Pretty cool, eh!\n",
    "\n",
    "<font color=red>A word of caution: WolframAlpha is a very powerful tool, and it is easy to be tempted to use WolframAlpha to complete the pre-class quizzes and online homework problems.  While you would earn the marks for these assessments, you would of course be cheating yourself from learning by not doing the work.  We encourage you to be disciplined, and use WolframAlpha only as a tool to check your work and when told to use it (for example, for a question where an integral needs to be evaluated but the evaluation itself is not the focus).</font>\n",
    "\n",
    "### 3. Not All Functions Have an Antiderivative That Can Be Written in Terms of Functions That We Know\n",
    "\n",
    "Not all functions, even seemingly innocuous functions such as $\\displaystyle f(x) = \\frac{e^x}{x}$ or $\\displaystyle g(x) = \\sin(x^2)$, have an antiderivative that can be written in terms of functions that we know.\n",
    "\n",
    "For example, let's take a look at what WolframAlpha says if we try to evaluate $\\displaystyle \\int \\sin(x^2) \\ dx$:\n",
    "> Navigate to https://www.wolframalpha.com and type \n",
    "`integrate sin( x^2 )`\n",
    "\n",
    "WolframAlpha returns \n",
    "$$\n",
    "\\int \\sin(x^2) \\ dx = \\sqrt{ \\frac{\\pi}{2} } \\mathcal{S}\\left( \\sqrt{ \\frac{2}{\\pi} } x \\right) + C,\n",
    "$$\n",
    "with a note indicating that $\\mathcal{S}(x)$ is the Fresnel S integral.  The Fresnel S integral is a mathematical object that has applications in physics and engineering.  It is a topic of study in advanced mathematics and physics courses; it is well beyond the scope of our course.\n",
    "The take-home message of this last experiment is that the antiderivative of $\\sin(x^2)$ cannot be written in terms of elementary functions.  \n",
    "\n",
    "Although WolframAlpha cannot evaluate the indefinite integral $\\displaystyle \\sin(x^2) \\ dx$ in terms of elementary functions, it <b>can</b> evaluate a definite integral such as $\\displaystyle \\int_0^3 \\sin(x^2) \\ dx$:\n",
    "> Navigate to https://www.wolframalpha.com and type \n",
    "`integrate sin( x^2 ) from 0 to 3`\n",
    "\n",
    "WolframAlpha returns \n",
    "$$\n",
    "\\int_0^3 \\sin(x^2) \\ dx \\approx 0.773563.\n",
    "$$\n",
    "Note that WolframAlpha provides a visual representation of the definite integral immediately below the numerical result: it shows that the definite integral represents the net area under the graph of $f(x) = \\sin(x^2)$ between $x=0$ and $x=3$ (area of the blue regions lying above the $x$-axis minus the area of the red region lying below the $x$-axis).\n",
    "\n",
    "### 4. Summary\n",
    "\n",
    "- A Table of Integrals is a useful resource in the evaluation of an integral.  It is not uncommon to need to use algebraic techniques (such as completing the square) and/or substitution to rewrite a given function into one of the forms listed in the Table of Integrals.\n",
    "- WolframAlpha is an excellent tool in the evaluation of both indefinite and definite integrals.  \n",
    "- Not all functions have an antiderivative that can be written in terms of functions that we know.\n",
    "\n",
    "### 5. Further Study\n",
    "\n",
    "Please refer to Section 5.7 in the textbook for additional treatment of this topic.\n",
    "\n",
    "### 6. Don't Forget\n",
    "\n",
    "Don't forget to return to eClass to complete the pre-class quiz."
   ]
  },
  {
   "cell_type": "code",
   "execution_count": null,
   "metadata": {},
   "outputs": [],
   "source": []
  }
 ],
 "metadata": {
  "kernelspec": {
   "display_name": "Python 3",
   "language": "python",
   "name": "python3"
  },
  "language_info": {
   "codemirror_mode": {
    "name": "ipython",
    "version": 3
   },
   "file_extension": ".py",
   "mimetype": "text/x-python",
   "name": "python",
   "nbconvert_exporter": "python",
   "pygments_lexer": "ipython3",
   "version": "3.7.3"
  }
 },
 "nbformat": 4,
 "nbformat_minor": 2
}
