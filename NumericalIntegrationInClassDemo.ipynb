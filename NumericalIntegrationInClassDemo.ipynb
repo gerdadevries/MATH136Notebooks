{
 "cells": [
  {
   "cell_type": "code",
   "execution_count": 1,
   "metadata": {},
   "outputs": [],
   "source": [
    "import numpy as np\n",
    "\n",
    "def trapezoid(f,a,b,n):\n",
    "# output: trapezoid rule approximation of int_a^b f(x) dx using n equal-width subintervals\n",
    "# Thanks to Patrick Walls, UBC, https://www.math.ubc.ca/~pwalls/math-python/integration/trapezoid-rule/\n",
    "    x = np.linspace(a,b,n+1) # N+1 points make N subintervals\n",
    "    y = f(x)\n",
    "    y_right = y[1:] # right endpoints\n",
    "    y_left = y[:-1] # left endpoints\n",
    "    dx = (b - a)/n\n",
    "    T = (dx/2) * np.sum(y_right + y_left)\n",
    "    return T"
   ]
  },
  {
   "cell_type": "code",
   "execution_count": 8,
   "metadata": {},
   "outputs": [
    {
     "data": {
      "text/plain": [
       "3.131176470588236"
      ]
     },
     "execution_count": 8,
     "metadata": {},
     "output_type": "execute_result"
    }
   ],
   "source": [
    "# Integrate f(x) = 4/(1+x^2) from 0 to 1\n",
    "f = lambda x : 4/(1 + x**2)\n",
    "trapezoid(f,0,1,4)"
   ]
  },
  {
   "cell_type": "code",
   "execution_count": 9,
   "metadata": {},
   "outputs": [
    {
     "data": {
      "text/plain": [
       "67.25218292245876"
      ]
     },
     "execution_count": 9,
     "metadata": {},
     "output_type": "execute_result"
    }
   ],
   "source": [
    "# In-Class Demo f(x) = normal distribution with mean of 69 and standard deviation of 3\n",
    "f = lambda x : 100 / ( 3 * np.sqrt( 2 * np.pi ) ) * np.exp( -1 / 2 * ( ( x - 69 ) / 3 )**2 )\n",
    "trapezoid(f,66,72,4)"
   ]
  }
 ],
 "metadata": {
  "kernelspec": {
   "display_name": "Python 3",
   "language": "python",
   "name": "python3"
  },
  "language_info": {
   "codemirror_mode": {
    "name": "ipython",
    "version": 3
   },
   "file_extension": ".py",
   "mimetype": "text/x-python",
   "name": "python",
   "nbconvert_exporter": "python",
   "pygments_lexer": "ipython3",
   "version": "3.7.3"
  }
 },
 "nbformat": 4,
 "nbformat_minor": 2
}
