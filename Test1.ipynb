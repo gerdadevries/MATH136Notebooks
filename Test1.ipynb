{
 "cells": [
  {
   "cell_type": "markdown",
   "metadata": {},
   "source": [
    "# Gerda's First Jupyter Notebook\n",
    "\n",
    "Inputting some text, just to see what that would look like.\n",
    "\n",
    "Let me try some mathematical formatting, like this $\\frac{1}{2}$.  Will it look like I expect?  Who knows.  Just playing around for now."
   ]
  },
  {
   "cell_type": "markdown",
   "metadata": {},
   "source": [
    "## Video Insertion\n",
    "\n",
    "I am curious if I can just point to one of Thomas' videos and play it here ..."
   ]
  },
  {
   "cell_type": "code",
   "execution_count": 1,
   "metadata": {},
   "outputs": [
    {
     "data": {
      "image/jpeg": "[encoded data removed]",
      "text/html": [
       "\n",
       "        <iframe\n",
       "            width=\"400\"\n",
       "            height=\"300\"\n",
       "            src=\"https://www.youtube.com/embed/JmF_hZp48ZI\"\n",
       "            frameborder=\"0\"\n",
       "            allowfullscreen\n",
       "        ></iframe>\n",
       "        "
      ],
      "text/plain": [
       "<IPython.lib.display.YouTubeVideo at 0x7f57b4675208>"
      ]
     },
     "execution_count": 1,
     "metadata": {},
     "output_type": "execute_result"
    }
   ],
   "source": [
    "from IPython.display import YouTubeVideo\n",
    "YouTubeVideo('JmF_hZp48ZI')"
   ]
  },
  {
   "cell_type": "markdown",
   "metadata": {},
   "source": [
    "## Python Code for the Trapezoid Rule\n",
    "\n",
    "Let's see if I can insert some python code and execute it too ... "
   ]
  },
  {
   "cell_type": "code",
   "execution_count": 3,
   "metadata": {},
   "outputs": [
    {
     "name": "stdout",
     "output_type": "stream",
     "text": [
      "The approximation of the definite integral is 3.141592486923125\n"
     ]
    }
   ],
   "source": [
    "def f(x):\n",
    "    return 4 / ( 1 + x**2)\n",
    "\n",
    "n = 1000\n",
    "a = 0\n",
    "b = 1\n",
    "\n",
    "delta_x = ((b-a)/float(n))\n",
    "\n",
    "x = a\n",
    "y = f(x)\n",
    "sum = y\n",
    "\n",
    "for i in range(1, n):\n",
    "    x = a + (i * delta_x)\n",
    "    y = f(x)\n",
    "    sum = sum + (2 * y)\n",
    "    \n",
    "x = b\n",
    "y = f(x)\n",
    "sum = sum + y\n",
    "\n",
    "approx = (0.5 * delta_x * float(sum))\n",
    "print( \"The approximation of the definite integral is %.15f\" %(approx))"
   ]
  }
 ],
 "metadata": {
  "kernelspec": {
   "display_name": "Python 3",
   "language": "python",
   "name": "python3"
  },
  "language_info": {
   "codemirror_mode": {
    "name": "ipython",
    "version": 3
   },
   "file_extension": ".py",
   "mimetype": "text/x-python",
   "name": "python",
   "nbconvert_exporter": "python",
   "pygments_lexer": "ipython3",
   "version": "3.7.3"
  }
 },
 "nbformat": 4,
 "nbformat_minor": 2
}
